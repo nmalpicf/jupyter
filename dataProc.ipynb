{
 "cells": [
  {
   "cell_type": "code",
   "execution_count": 2,
   "id": "f7e712fc",
   "metadata": {
    "scrolled": true
   },
   "outputs": [
    {
     "data": {
      "text/html": [
       "<div>\n",
       "<style scoped>\n",
       "    .dataframe tbody tr th:only-of-type {\n",
       "        vertical-align: middle;\n",
       "    }\n",
       "\n",
       "    .dataframe tbody tr th {\n",
       "        vertical-align: top;\n",
       "    }\n",
       "\n",
       "    .dataframe thead th {\n",
       "        text-align: right;\n",
       "    }\n",
       "</style>\n",
       "<table border=\"1\" class=\"dataframe\">\n",
       "  <thead>\n",
       "    <tr style=\"text-align: right;\">\n",
       "      <th></th>\n",
       "      <th>key</th>\n",
       "      <th>customerID</th>\n",
       "      <th>date</th>\n",
       "      <th>paymentMethod</th>\n",
       "      <th>ticketNumber</th>\n",
       "      <th>ticketNumberDetail</th>\n",
       "      <th>value</th>\n",
       "      <th>discount</th>\n",
       "      <th>createdBy</th>\n",
       "      <th>custCreationDate</th>\n",
       "      <th>...</th>\n",
       "      <th>itemLine</th>\n",
       "      <th>itemSubline</th>\n",
       "      <th>itemRegulated</th>\n",
       "      <th>itemApplications</th>\n",
       "      <th>itemLevel</th>\n",
       "      <th>storeID</th>\n",
       "      <th>dayOfYear</th>\n",
       "      <th>dayOfWeek</th>\n",
       "      <th>yearMonth</th>\n",
       "      <th>dayName</th>\n",
       "    </tr>\n",
       "  </thead>\n",
       "  <tbody>\n",
       "    <tr>\n",
       "      <th>0</th>\n",
       "      <td>996</td>\n",
       "      <td>NaN</td>\n",
       "      <td>2021-06-11</td>\n",
       "      <td>NaN</td>\n",
       "      <td>183C93C6-08CB-EB11-B636-AC82478FB6A9</td>\n",
       "      <td>NaN</td>\n",
       "      <td>NaN</td>\n",
       "      <td>NaN</td>\n",
       "      <td>NaN</td>\n",
       "      <td>NaT</td>\n",
       "      <td>...</td>\n",
       "      <td>NaN</td>\n",
       "      <td>NaN</td>\n",
       "      <td>NaN</td>\n",
       "      <td>NaN</td>\n",
       "      <td>NaN</td>\n",
       "      <td>10</td>\n",
       "      <td>162</td>\n",
       "      <td>6</td>\n",
       "      <td>2021-06</td>\n",
       "      <td>Friday</td>\n",
       "    </tr>\n",
       "    <tr>\n",
       "      <th>1</th>\n",
       "      <td>998</td>\n",
       "      <td>NaN</td>\n",
       "      <td>2021-06-11</td>\n",
       "      <td>NaN</td>\n",
       "      <td>A938A208-09CB-EB11-B638-AC82478FA8AD</td>\n",
       "      <td>NaN</td>\n",
       "      <td>NaN</td>\n",
       "      <td>NaN</td>\n",
       "      <td>NaN</td>\n",
       "      <td>NaT</td>\n",
       "      <td>...</td>\n",
       "      <td>NaN</td>\n",
       "      <td>NaN</td>\n",
       "      <td>NaN</td>\n",
       "      <td>NaN</td>\n",
       "      <td>NaN</td>\n",
       "      <td>10</td>\n",
       "      <td>162</td>\n",
       "      <td>6</td>\n",
       "      <td>2021-06</td>\n",
       "      <td>Friday</td>\n",
       "    </tr>\n",
       "    <tr>\n",
       "      <th>2</th>\n",
       "      <td>1002</td>\n",
       "      <td>26557317</td>\n",
       "      <td>2021-06-11</td>\n",
       "      <td>CON</td>\n",
       "      <td>916A5D76-B4CA-EB11-B636-AC82478FB6A9</td>\n",
       "      <td>7AC93ADA-B4CA-EB11-B636-AC82478FB6A9</td>\n",
       "      <td>51100.0</td>\n",
       "      <td>0.0</td>\n",
       "      <td>victor</td>\n",
       "      <td>2013-01-26</td>\n",
       "      <td>...</td>\n",
       "      <td>VITAMINAS Y MINERALES</td>\n",
       "      <td>FOSFORO PREPARACIONES</td>\n",
       "      <td>NO</td>\n",
       "      <td>GANADERÍA BOVINA</td>\n",
       "      <td>GAMA BAJA</td>\n",
       "      <td>10</td>\n",
       "      <td>162</td>\n",
       "      <td>6</td>\n",
       "      <td>2021-06</td>\n",
       "      <td>Friday</td>\n",
       "    </tr>\n",
       "    <tr>\n",
       "      <th>3</th>\n",
       "      <td>1003</td>\n",
       "      <td>26557317</td>\n",
       "      <td>2021-06-11</td>\n",
       "      <td>CON</td>\n",
       "      <td>916A5D76-B4CA-EB11-B636-AC82478FB6A9</td>\n",
       "      <td>D44DFE12-B5CA-EB11-B636-AC82478FB6A9</td>\n",
       "      <td>1.0</td>\n",
       "      <td>0.0</td>\n",
       "      <td>victor</td>\n",
       "      <td>2013-01-26</td>\n",
       "      <td>...</td>\n",
       "      <td>IMPLEMENTOS VARIOS</td>\n",
       "      <td>NaN</td>\n",
       "      <td>NO</td>\n",
       "      <td>CONSUMO</td>\n",
       "      <td>GAMA BAJA</td>\n",
       "      <td>10</td>\n",
       "      <td>162</td>\n",
       "      <td>6</td>\n",
       "      <td>2021-06</td>\n",
       "      <td>Friday</td>\n",
       "    </tr>\n",
       "    <tr>\n",
       "      <th>4</th>\n",
       "      <td>1004</td>\n",
       "      <td>2041175771</td>\n",
       "      <td>2021-06-11</td>\n",
       "      <td>CON</td>\n",
       "      <td>B3267A6E-B8CA-EB11-B636-AC82478FB6A9</td>\n",
       "      <td>B4267A6E-B8CA-EB11-B636-AC82478FB6A9</td>\n",
       "      <td>4000.0</td>\n",
       "      <td>0.0</td>\n",
       "      <td>victor</td>\n",
       "      <td>2021-03-18</td>\n",
       "      <td>...</td>\n",
       "      <td>ALIMENTO PARA PERROS</td>\n",
       "      <td>SNACKS</td>\n",
       "      <td>NO</td>\n",
       "      <td>MASCOTAS</td>\n",
       "      <td>GAMA MEDIA</td>\n",
       "      <td>10</td>\n",
       "      <td>162</td>\n",
       "      <td>6</td>\n",
       "      <td>2021-06</td>\n",
       "      <td>Friday</td>\n",
       "    </tr>\n",
       "  </tbody>\n",
       "</table>\n",
       "<p>5 rows × 34 columns</p>\n",
       "</div>"
      ],
      "text/plain": [
       "    key  customerID       date paymentMethod  \\\n",
       "0   996         NaN 2021-06-11           NaN   \n",
       "1   998         NaN 2021-06-11           NaN   \n",
       "2  1002    26557317 2021-06-11           CON   \n",
       "3  1003    26557317 2021-06-11           CON   \n",
       "4  1004  2041175771 2021-06-11           CON   \n",
       "\n",
       "                           ticketNumber                    ticketNumberDetail  \\\n",
       "0  183C93C6-08CB-EB11-B636-AC82478FB6A9                                   NaN   \n",
       "1  A938A208-09CB-EB11-B638-AC82478FA8AD                                   NaN   \n",
       "2  916A5D76-B4CA-EB11-B636-AC82478FB6A9  7AC93ADA-B4CA-EB11-B636-AC82478FB6A9   \n",
       "3  916A5D76-B4CA-EB11-B636-AC82478FB6A9  D44DFE12-B5CA-EB11-B636-AC82478FB6A9   \n",
       "4  B3267A6E-B8CA-EB11-B636-AC82478FB6A9  B4267A6E-B8CA-EB11-B636-AC82478FB6A9   \n",
       "\n",
       "     value  discount createdBy custCreationDate  ...               itemLine  \\\n",
       "0      NaN       NaN       NaN              NaT  ...                    NaN   \n",
       "1      NaN       NaN       NaN              NaT  ...                    NaN   \n",
       "2  51100.0       0.0    victor       2013-01-26  ...  VITAMINAS Y MINERALES   \n",
       "3      1.0       0.0    victor       2013-01-26  ...     IMPLEMENTOS VARIOS   \n",
       "4   4000.0       0.0    victor       2021-03-18  ...   ALIMENTO PARA PERROS   \n",
       "\n",
       "             itemSubline itemRegulated  itemApplications   itemLevel storeID  \\\n",
       "0                    NaN           NaN               NaN         NaN      10   \n",
       "1                    NaN           NaN               NaN         NaN      10   \n",
       "2  FOSFORO PREPARACIONES            NO  GANADERÍA BOVINA   GAMA BAJA      10   \n",
       "3                    NaN            NO           CONSUMO   GAMA BAJA      10   \n",
       "4                 SNACKS            NO          MASCOTAS  GAMA MEDIA      10   \n",
       "\n",
       "  dayOfYear dayOfWeek yearMonth dayName  \n",
       "0       162         6   2021-06  Friday  \n",
       "1       162         6   2021-06  Friday  \n",
       "2       162         6   2021-06  Friday  \n",
       "3       162         6   2021-06  Friday  \n",
       "4       162         6   2021-06  Friday  \n",
       "\n",
       "[5 rows x 34 columns]"
      ]
     },
     "execution_count": 2,
     "metadata": {},
     "output_type": "execute_result"
    }
   ],
   "source": [
    "#DATA IMPORTING AND PREPARATION\n",
    "\n",
    "import pandas as pd\n",
    "import matplotlib.pyplot as plt\n",
    "import numpy as np\n",
    "\n",
    "data = pd.read_csv('customerData.csv', header = 0)\n",
    "\n",
    "#CASTING PROPERLY\n",
    "\n",
    "data.columns.values[0] = 'key'\n",
    "\n",
    "data['date'] = pd.to_datetime(data['date'], format = '%Y-%m-%d')\n",
    "data['custCreationDate'] = pd.to_datetime(data['custCreationDate'], format = '%Y-%m-%d')\n",
    "data['birthDate'] = pd.to_datetime(data['birthDate'], format = '%Y-%m-%d')\n",
    "#data['yearMonth'] = pd.to_datetime(data['yearMonth'], format = '%Y-%m-%d')\n",
    "\n",
    "\n",
    "\n",
    "data = data.astype({'key': 'object', 'custCity': 'object', 'gender': 'object', 'itemID': 'object',\n",
    "                    'storeID': 'object', 'dayOfYear': 'object', 'dayOfWeek': 'object'})\n",
    "\n",
    "\n",
    "data.head()"
   ]
  },
  {
   "cell_type": "code",
   "execution_count": 3,
   "id": "295c4586",
   "metadata": {},
   "outputs": [
    {
     "data": {
      "text/plain": [
       "key                           object\n",
       "customerID                    object\n",
       "date                  datetime64[ns]\n",
       "paymentMethod                 object\n",
       "ticketNumber                  object\n",
       "ticketNumberDetail            object\n",
       "value                        float64\n",
       "discount                     float64\n",
       "createdBy                     object\n",
       "custCreationDate      datetime64[ns]\n",
       "idType                        object\n",
       "birthDate             datetime64[ns]\n",
       "custCity                      object\n",
       "custHood                      object\n",
       "custEmail                     object\n",
       "gender                        object\n",
       "itemID                        object\n",
       "itemName                      object\n",
       "unitOfMeasure                 object\n",
       "itemCreationDate              object\n",
       "brand                         object\n",
       "itemGroup                     object\n",
       "category                      object\n",
       "businessUnit                  object\n",
       "itemLine                      object\n",
       "itemSubline                   object\n",
       "itemRegulated                 object\n",
       "itemApplications              object\n",
       "itemLevel                     object\n",
       "storeID                       object\n",
       "dayOfYear                     object\n",
       "dayOfWeek                     object\n",
       "yearMonth                     object\n",
       "dayName                       object\n",
       "dtype: object"
      ]
     },
     "execution_count": 3,
     "metadata": {},
     "output_type": "execute_result"
    }
   ],
   "source": [
    "data.dtypes"
   ]
  },
  {
   "cell_type": "code",
   "execution_count": 4,
   "id": "2e7df8da",
   "metadata": {},
   "outputs": [],
   "source": [
    "outlyer = data.groupby('itemName').apply(lambda x: x[x['discount'] == data['discount'].max()]['discount'])"
   ]
  },
  {
   "cell_type": "code",
   "execution_count": 5,
   "id": "16bf7c9d",
   "metadata": {
    "scrolled": false
   },
   "outputs": [
    {
     "data": {
      "text/plain": [
       "'\\nfig, ax = plt.subplots(figsize=(20,7))\\n\\nax.plot(dateValue[\\'yearMonth\\'],dateValue[\\'value\\'], color = \\'purple\\', marker = \\'o\\', ms = 5, mec = \\'m\\', mfc = \\'k\\')\\nax.set(\\n    title  = \"Total value aggregated per month\\nJan 2020 - Oct 2021\",\\n    xlabel = \"DATE\",\\n    ylabel = \"VALUE AGG [M]\",\\n    ylim   = [0,dateValue[\\'value\\'].max()+10],\\n    xlim   = [dateValue[\\'yearMonth\\'].min(),dateValue[\\'yearMonth\\'].max()]\\n)\\n    \\nplt.yticks([0, 145, 290, 435, 580, dateValue[\\'value\\'].max()])\\n\\nplt.grid(color = \\'green\\', linestyle = \\'--\\', linewidth = 0.5)\\nplt.show()\\n'"
      ]
     },
     "execution_count": 5,
     "metadata": {},
     "output_type": "execute_result"
    }
   ],
   "source": [
    "#Transaction date vs value\n",
    "\n",
    "#Aggregate value excluding impoConsumo Bolsas\n",
    "dateValue = data.groupby('yearMonth', as_index=False).apply(lambda x: x[x['itemID'] != 7530 ]['value'].sum())\n",
    "dateValue.columns.values[1] = 'value'\n",
    "dateValue['value'] = dateValue['value']/1e6\n",
    "\n",
    "\"\"\"\n",
    "fig, ax = plt.subplots(figsize=(20,7))\n",
    "\n",
    "ax.plot(dateValue['yearMonth'],dateValue['value'], color = 'purple', marker = 'o', ms = 5, mec = 'm', mfc = 'k')\n",
    "ax.set(\n",
    "    title  = \"Total value aggregated per month\\nJan 2020 - Oct 2021\",\n",
    "    xlabel = \"DATE\",\n",
    "    ylabel = \"VALUE AGG [M]\",\n",
    "    ylim   = [0,dateValue['value'].max()+10],\n",
    "    xlim   = [dateValue['yearMonth'].min(),dateValue['yearMonth'].max()]\n",
    ")\n",
    "    \n",
    "plt.yticks([0, 145, 290, 435, 580, dateValue['value'].max()])\n",
    "\n",
    "plt.grid(color = 'green', linestyle = '--', linewidth = 0.5)\n",
    "plt.show()\n",
    "\"\"\""
   ]
  },
  {
   "cell_type": "code",
   "execution_count": 6,
   "id": "dca60e11",
   "metadata": {},
   "outputs": [],
   "source": [
    "#Number of transactions without customerID value\n",
    "\n",
    "null = data['customerID'].isnull().sum()\n",
    "total = (data.shape[0])\n",
    "per   = round((null/total)*100, 2)"
   ]
  },
  {
   "cell_type": "code",
   "execution_count": 7,
   "id": "7029d187",
   "metadata": {},
   "outputs": [
    {
     "data": {
      "text/plain": [
       "'\\nfig = plt.figure(figsize = (20, 7))\\n\\nplt.bar(paymentMet[\\'paymentMethod\\'], paymentMet[\\'value\\'], color =\\'purple\\',\\n        width = 0.5)\\n \\nplt.xlabel(\"PAYMENT METHOD\")\\nplt.ylabel(\"VALUE AGG [M] - LOG SCALE\")\\nplt.title(\"Total value aggregated by paymentMethod\\nJan 2020 - Oct 2021\")\\nplt.grid(axis = \\'y\\', color = \\'green\\', linestyle = \\'--\\', linewidth = 0.5)\\nplt.yscale(\\'log\\')\\nplt.show()\\n'"
      ]
     },
     "execution_count": 7,
     "metadata": {},
     "output_type": "execute_result"
    }
   ],
   "source": [
    "#Payment methods\n",
    "\n",
    "paymentMet = data.groupby('paymentMethod', as_index=False).apply(lambda x: x[x['itemID'] != 7530 ]['value'].sum())\n",
    "paymentMet.columns.values[1] = 'value'\n",
    "\n",
    "#Clean null\n",
    "paymentMet = paymentMet[~(paymentMet[['paymentMethod']].isnull()).all(axis=1)]\n",
    "\n",
    "paymentMet['value'] = paymentMet['value']/1e6\n",
    "grandTotal = paymentMet['value'].sum()\n",
    "paymentMet['percentage'] = round((paymentMet['value']/grandTotal)*100,5)\n",
    "\n",
    "\"\"\"\n",
    "fig = plt.figure(figsize = (20, 7))\n",
    "\n",
    "plt.bar(paymentMet['paymentMethod'], paymentMet['value'], color ='purple',\n",
    "        width = 0.5)\n",
    " \n",
    "plt.xlabel(\"PAYMENT METHOD\")\n",
    "plt.ylabel(\"VALUE AGG [M] - LOG SCALE\")\n",
    "plt.title(\"Total value aggregated by paymentMethod\\nJan 2020 - Oct 2021\")\n",
    "plt.grid(axis = 'y', color = 'green', linestyle = '--', linewidth = 0.5)\n",
    "plt.yscale('log')\n",
    "plt.show()\n",
    "\"\"\""
   ]
  },
  {
   "cell_type": "code",
   "execution_count": 8,
   "id": "a2d9eb9a",
   "metadata": {},
   "outputs": [
    {
     "data": {
      "text/plain": [
       "'\\nfig, ax1 = plt.subplots(figsize=(20,7))\\n\\nax1.plot(bagsSupply[\\'yearMonth\\'],bagsSupply[\\'value\\'], color = \\'green\\', marker = \\'o\\', ms = 5, mec = \\'r\\', mfc = \\'k\\')\\nax1.set(\\n    title  = \"Total bags used vs value aggregated per month\\nJan 2020 - Oct 2021\",\\n    xlabel = \"DATE\",\\n    ylabel = \"BAGS/MONTH [UND]\",\\n    ylim   = [0,bagsSupply[\\'value\\'].max()],\\n    xlim   = [bagsSupply[\\'yearMonth\\'].min(),bagsSupply[\\'yearMonth\\'].max()],\\n    yticks = [0, 1763, 3256, 5290, 7053, bagsSupply[\\'value\\'].max()] \\n)\\nax1.yaxis.label.set_color(\\'green\\')\\n\\nax2 = ax1.twinx()\\n\\nax2.plot(dateValue[\\'yearMonth\\'],dateValue[\\'value\\'], color = \\'purple\\', marker = \\'o\\', ms = 5, mec = \\'m\\', mfc = \\'k\\')\\nax2.set(\\n    ylabel = \"VALUE AGG [M]\",\\n    ylim   = [0,dateValue[\\'value\\'].max()],\\n    yticks = [0, 145, 290, 435, 580, dateValue[\\'value\\'].max()]\\n)\\nax2.yaxis.label.set_color(\\'purple\\')\\n\\nplt.grid(color = \\'gray\\', linestyle = \\'--\\', linewidth = 0.5)\\nplt.show()\\n'"
      ]
     },
     "execution_count": 8,
     "metadata": {},
     "output_type": "execute_result"
    }
   ],
   "source": [
    "impConsumo = data.loc[data['itemID'] == 7530, 'value'].sum()\n",
    "#impConsumo\n",
    "\n",
    "#Since unitOfMeasure = UND for item 7530 then 'value'.sum() = # UND\n",
    "\n",
    "bags = impConsumo\n",
    "\n",
    "bagsSupply = data.groupby('yearMonth', as_index=False).apply(lambda x: x[x['itemID'] == 7530 ]['value'].sum())\n",
    "bagsSupply.columns.values[1] = 'value'\n",
    "\n",
    "\"\"\"\n",
    "fig, ax1 = plt.subplots(figsize=(20,7))\n",
    "\n",
    "ax1.plot(bagsSupply['yearMonth'],bagsSupply['value'], color = 'green', marker = 'o', ms = 5, mec = 'r', mfc = 'k')\n",
    "ax1.set(\n",
    "    title  = \"Total bags used vs value aggregated per month\\nJan 2020 - Oct 2021\",\n",
    "    xlabel = \"DATE\",\n",
    "    ylabel = \"BAGS/MONTH [UND]\",\n",
    "    ylim   = [0,bagsSupply['value'].max()],\n",
    "    xlim   = [bagsSupply['yearMonth'].min(),bagsSupply['yearMonth'].max()],\n",
    "    yticks = [0, 1763, 3256, 5290, 7053, bagsSupply['value'].max()] \n",
    ")\n",
    "ax1.yaxis.label.set_color('green')\n",
    "\n",
    "ax2 = ax1.twinx()\n",
    "\n",
    "ax2.plot(dateValue['yearMonth'],dateValue['value'], color = 'purple', marker = 'o', ms = 5, mec = 'm', mfc = 'k')\n",
    "ax2.set(\n",
    "    ylabel = \"VALUE AGG [M]\",\n",
    "    ylim   = [0,dateValue['value'].max()],\n",
    "    yticks = [0, 145, 290, 435, 580, dateValue['value'].max()]\n",
    ")\n",
    "ax2.yaxis.label.set_color('purple')\n",
    "\n",
    "plt.grid(color = 'gray', linestyle = '--', linewidth = 0.5)\n",
    "plt.show()\n",
    "\"\"\""
   ]
  },
  {
   "cell_type": "code",
   "execution_count": 9,
   "id": "1829bf8c",
   "metadata": {},
   "outputs": [],
   "source": [
    "#Top products by month\n",
    "\n",
    "sortProducts = data.groupby(['yearMonth', 'itemName'], as_index=True).apply(lambda x: x[x['itemID'] != 7530 ].agg({'value':sum}))\n",
    "topProductsSerie = sortProducts['value'].groupby('yearMonth', group_keys=False).nlargest(5)\n",
    "\n",
    "topProducts = topProductsSerie.to_frame()\n",
    "topProducts = topProducts.reset_index()\n",
    "\n",
    "topProducts['value'] = topProducts['value']/1e6\n",
    "\n",
    "#topProducts.to_csv('topProducts.csv', index =False)"
   ]
  },
  {
   "cell_type": "code",
   "execution_count": 10,
   "id": "1582be32",
   "metadata": {
    "scrolled": true
   },
   "outputs": [
    {
     "data": {
      "text/plain": [
       "'\\nfig, ax1 = plt.subplots(figsize=(20,7))\\n\\nax1.plot(bagsSupply[\\'yearMonth\\'],bagsSupply[\\'value\\'], color = \\'green\\', marker = \\'o\\', ms = 5, mec = \\'r\\', mfc = \\'k\\')\\nax1.set(\\n    title  = \"Top 28 products - value aggregated per month\\nJan 2020 - Oct 2021\",\\n    xlabel = \"DATE\",\\n    ylabel = \"BAGS/MONTH [UND]\",\\n    ylim   = [0,bagsSupply[\\'value\\'].max()],\\n    xlim   = [bagsSupply[\\'yearMonth\\'].min(),bagsSupply[\\'yearMonth\\'].max()],\\n    yticks = [0, 1763, 3256, 5290, 7053, bagsSupply[\\'value\\'].max()] \\n)\\nax1.yaxis.label.set_color(\\'green\\')\\n\\nax2 = ax1.twinx()\\n\\nax2.plot(dateValue[\\'yearMonth\\'],dateValue[\\'value\\'], color = \\'purple\\', marker = \\'o\\', ms = 5, mec = \\'m\\', mfc = \\'k\\')\\nax2.set(\\n    ylabel = \"VALUE AGG [M]\",\\n    ylim   = [0,dateValue[\\'value\\'].max()],\\n    yticks = [0, 145, 290, 435, 580, dateValue[\\'value\\'].max()]\\n)\\nax2.yaxis.label.set_color(\\'blue\\')\\n\\nax2.plot(productSeries[\\'yearMonth\\'],productSeries[\\'value\\'], color = \\'blue\\', marker = \\'o\\', ms = 5, mec = \\'m\\', mfc = \\'k\\')\\n\\nplt.grid(color = \\'gray\\', linestyle = \\'--\\', linewidth = 0.5)\\n\\nfig, ax3 = plt.subplots(figsize=(20,7))\\nax3.bar(countTop[\\'itemName\\'], countTop[\\'count\\'], color=[\\'purple\\'])\\n\\nax3.set(\\n    title  = \"Top 28 products frequency of appereance in monthly top 5\\nJan 2020 - Oct 2021\",\\n    xlabel = \"ITEM\",\\n    ylabel = \"FREQUENCY\", \\n)\\nax3.yaxis.label.set_color(\\'purple\\')\\n\\nplt.xticks(rotation = 90)\\nplt.show()\\n'"
      ]
     },
     "execution_count": 10,
     "metadata": {},
     "output_type": "execute_result"
    }
   ],
   "source": [
    "#Consolidate series for all products that appear at least once in the monthly top 5 (28)\n",
    "\n",
    "countTop = topProducts.groupby(['itemName'], as_index=False).agg({'value':'count'})\n",
    "countTop.sort_values('value', inplace=True, ascending=False)\n",
    "countTop.columns.values[1] = 'count'\n",
    "\n",
    "countTopList = countTop['itemName'].to_list()\n",
    "\n",
    "productSeries = data[data['itemName'].isin(countTopList)]\n",
    "productSeries = productSeries.groupby(['yearMonth']).agg({'value':sum})\n",
    "productSeries.reset_index(inplace=True)\n",
    "\n",
    "productSeries['value'] = productSeries['value']/1e6\n",
    "countTop.reset_index(inplace=True)\n",
    "\n",
    "\"\"\"\n",
    "fig, ax1 = plt.subplots(figsize=(20,7))\n",
    "\n",
    "ax1.plot(bagsSupply['yearMonth'],bagsSupply['value'], color = 'green', marker = 'o', ms = 5, mec = 'r', mfc = 'k')\n",
    "ax1.set(\n",
    "    title  = \"Top 28 products - value aggregated per month\\nJan 2020 - Oct 2021\",\n",
    "    xlabel = \"DATE\",\n",
    "    ylabel = \"BAGS/MONTH [UND]\",\n",
    "    ylim   = [0,bagsSupply['value'].max()],\n",
    "    xlim   = [bagsSupply['yearMonth'].min(),bagsSupply['yearMonth'].max()],\n",
    "    yticks = [0, 1763, 3256, 5290, 7053, bagsSupply['value'].max()] \n",
    ")\n",
    "ax1.yaxis.label.set_color('green')\n",
    "\n",
    "ax2 = ax1.twinx()\n",
    "\n",
    "ax2.plot(dateValue['yearMonth'],dateValue['value'], color = 'purple', marker = 'o', ms = 5, mec = 'm', mfc = 'k')\n",
    "ax2.set(\n",
    "    ylabel = \"VALUE AGG [M]\",\n",
    "    ylim   = [0,dateValue['value'].max()],\n",
    "    yticks = [0, 145, 290, 435, 580, dateValue['value'].max()]\n",
    ")\n",
    "ax2.yaxis.label.set_color('blue')\n",
    "\n",
    "ax2.plot(productSeries['yearMonth'],productSeries['value'], color = 'blue', marker = 'o', ms = 5, mec = 'm', mfc = 'k')\n",
    "\n",
    "plt.grid(color = 'gray', linestyle = '--', linewidth = 0.5)\n",
    "\n",
    "fig, ax3 = plt.subplots(figsize=(20,7))\n",
    "ax3.bar(countTop['itemName'], countTop['count'], color=['purple'])\n",
    "\n",
    "ax3.set(\n",
    "    title  = \"Top 28 products frequency of appereance in monthly top 5\\nJan 2020 - Oct 2021\",\n",
    "    xlabel = \"ITEM\",\n",
    "    ylabel = \"FREQUENCY\", \n",
    ")\n",
    "ax3.yaxis.label.set_color('purple')\n",
    "\n",
    "plt.xticks(rotation = 90)\n",
    "plt.show()\n",
    "\"\"\""
   ]
  },
  {
   "cell_type": "code",
   "execution_count": 11,
   "id": "6ff8e473",
   "metadata": {},
   "outputs": [
    {
     "data": {
      "text/plain": [
       "'\\nfig, ax = plt.subplots(figsize=(10,7))\\nax.bar(topGroup[\\'itemGroup\\'], topGroup[\\'value\\'], color=[\\'purple\\'], width=0.25)\\n\\nax.set(\\n    title  = \"Top group contributions to value\\nJan 2020 - Oct 2021\",\\n    xlabel = \"GROUP\",\\n    ylabel = \"VALUE AGG [M]\", \\n)\\nax.yaxis.label.set_color(\\'purple\\')\\n\\nplt.xticks(rotation = 90)\\nplt.show()\\n'"
      ]
     },
     "execution_count": 11,
     "metadata": {},
     "output_type": "execute_result"
    }
   ],
   "source": [
    "#Top contribution in value by group\n",
    "\n",
    "topGroup = data[data['itemName'].isin(countTopList)]\n",
    "topGroup = topGroup.groupby(['itemGroup'], as_index=False).agg({'value':sum})\n",
    "\n",
    "topGroup.sort_values('value', inplace=True, ascending=False)\n",
    "topGroup.columns.values[1] = 'value'\n",
    "topGroup['value'] = topGroup['value']/1e6\n",
    "topGroup.reset_index(inplace=True)\n",
    "\"\"\"\n",
    "fig, ax = plt.subplots(figsize=(10,7))\n",
    "ax.bar(topGroup['itemGroup'], topGroup['value'], color=['purple'], width=0.25)\n",
    "\n",
    "ax.set(\n",
    "    title  = \"Top group contributions to value\\nJan 2020 - Oct 2021\",\n",
    "    xlabel = \"GROUP\",\n",
    "    ylabel = \"VALUE AGG [M]\", \n",
    ")\n",
    "ax.yaxis.label.set_color('purple')\n",
    "\n",
    "plt.xticks(rotation = 90)\n",
    "plt.show()\n",
    "\"\"\""
   ]
  },
  {
   "cell_type": "code",
   "execution_count": 12,
   "id": "a751039a",
   "metadata": {
    "scrolled": true
   },
   "outputs": [
    {
     "data": {
      "text/plain": [
       "'\\nfig, ax = plt.subplots(figsize=(20,7))\\nseriesTop.groupby(\\'itemName\\')[\\'value\\'].plot(legend=True)\\n\\nlim = seriesTop[\\'value\\'].max()\\n\\nax.set(\\n    title  = \"Top 28 product series - evaluate seasonality\\nJan 2020 - Oct 2021\",\\n    xlabel = \"DATE\",\\n    ylabel = \"VALUE AGG [M]\",\\n    ylim   = [0,lim],\\n    yticks = [0, (lim/6)*1, (lim/6)*2, (lim/6)*3, (lim/6)*4, (lim/6)*5, lim]\\n)\\n\\n\\nplt.legend(bbox_to_anchor=(1, 1.03))\\n'"
      ]
     },
     "execution_count": 12,
     "metadata": {},
     "output_type": "execute_result"
    }
   ],
   "source": [
    "#Top 28 all series - evaluate seasonality\n",
    "\n",
    "seriesTop = data[data['itemName'].isin(countTopList)]\n",
    "seriesTop = seriesTop.groupby(['itemName', 'yearMonth'], as_index=True).agg({'value':sum})\n",
    "seriesTop.reset_index(inplace=True)\n",
    "seriesTop['value'] = seriesTop['value']/1e6\n",
    "seriesTopPlt = seriesTop\n",
    "\n",
    "seriesTop.set_index('yearMonth', inplace=True)\n",
    "\n",
    "\"\"\"\n",
    "fig, ax = plt.subplots(figsize=(20,7))\n",
    "seriesTop.groupby('itemName')['value'].plot(legend=True)\n",
    "\n",
    "lim = seriesTop['value'].max()\n",
    "\n",
    "ax.set(\n",
    "    title  = \"Top 28 product series - evaluate seasonality\\nJan 2020 - Oct 2021\",\n",
    "    xlabel = \"DATE\",\n",
    "    ylabel = \"VALUE AGG [M]\",\n",
    "    ylim   = [0,lim],\n",
    "    yticks = [0, (lim/6)*1, (lim/6)*2, (lim/6)*3, (lim/6)*4, (lim/6)*5, lim]\n",
    ")\n",
    "\n",
    "\n",
    "plt.legend(bbox_to_anchor=(1, 1.03))\n",
    "\"\"\"\n",
    "#totalProducts = data.groupby(['itemName', 'yearMonth']).apply(lambda x: x[x['itemID'] != 7530 ]['itemName'].count())"
   ]
  },
  {
   "cell_type": "code",
   "execution_count": 13,
   "id": "0a66978a",
   "metadata": {},
   "outputs": [
    {
     "data": {
      "text/plain": [
       "'\\nfig, ax = plt.subplots(figsize=(10,7))\\nax.bar(topCustomer[\\'customerID\\'], topCustomer[\\'value\\'], color=[\\'forestgreen\\'], width=0.75)\\n\\nax.set(\\n    title  = \"Top contributions to value by customerID\\nJan 2020 - Oct 2021\",\\n    xlabel = \"CUSTOMER ID\",\\n    ylabel = \"VALUE AGG [M]\", \\n)\\n\\nplt.xticks(rotation = 90)\\nplt.yscale(\\'log\\')\\n\\ndef addlabels(x,y):\\n    for i in range(len(x)):\\n        plt.text(i, y[i]+1, y[i]+1, ha = \\'center\\', color=\\'red\\')\\n        \\naddlabels(topCustomer[\\'customerID\\'], round(topCustomer[\\'value\\'], 2))\\nax.yaxis.label.set_color(\\'red\\')\\n\\nplt.show()\\n'"
      ]
     },
     "execution_count": 13,
     "metadata": {},
     "output_type": "execute_result"
    }
   ],
   "source": [
    "#Top value by customerID\n",
    "\n",
    "topCustomer = data.groupby('customerID', as_index=False).apply(lambda x: x[x['itemID'] != 7530 ]['value'].sum())\n",
    "topCustomer.columns.values[1] = 'value'\n",
    "topCustomer['value'] = topCustomer['value']/1e6\n",
    "topCustomer.sort_values('value', inplace=True, ascending=False)\n",
    "topCustomer.reset_index(inplace=True)\n",
    "\n",
    "topCustomer = topCustomer.head(10)\n",
    "\n",
    "topCustomerList = topCustomer['customerID'].tolist()\n",
    "\n",
    "\"\"\"\n",
    "fig, ax = plt.subplots(figsize=(10,7))\n",
    "ax.bar(topCustomer['customerID'], topCustomer['value'], color=['forestgreen'], width=0.75)\n",
    "\n",
    "ax.set(\n",
    "    title  = \"Top contributions to value by customerID\\nJan 2020 - Oct 2021\",\n",
    "    xlabel = \"CUSTOMER ID\",\n",
    "    ylabel = \"VALUE AGG [M]\", \n",
    ")\n",
    "\n",
    "plt.xticks(rotation = 90)\n",
    "plt.yscale('log')\n",
    "\n",
    "def addlabels(x,y):\n",
    "    for i in range(len(x)):\n",
    "        plt.text(i, y[i]+1, y[i]+1, ha = 'center', color='red')\n",
    "        \n",
    "addlabels(topCustomer['customerID'], round(topCustomer['value'], 2))\n",
    "ax.yaxis.label.set_color('red')\n",
    "\n",
    "plt.show()\n",
    "\"\"\""
   ]
  },
  {
   "cell_type": "code",
   "execution_count": 14,
   "id": "af5a13bd",
   "metadata": {},
   "outputs": [
    {
     "data": {
      "text/plain": [
       "'\\nfig, ax1 = plt.subplots(figsize=(20,7))\\nseriesCustomer.groupby(\\'customerID\\')[\\'value\\'].plot(legend=True)\\n\\nlim = seriesCustomer[\\'value\\'].max()\\n\\nax1.set(\\n    title  = \"Top 10 cutomers series - evaluate behavior over time\\nJan 2020 - Oct 2021\",\\n    xlabel = \"DATE\",\\n    ylabel = \"VALUE AGG [M]\",\\n    ylim   = [0,lim],\\n    yticks = [0, (lim/6)*1, (lim/6)*2, (lim/6)*3, (lim/6)*4, (lim/6)*5, lim]\\n)\\n\\nax2 = ax1.twinx()\\n\\nlim2 = pdvSeries[\\'value\\'].max()\\n\\npdvSeries.groupby(\\'customerID\\')[\\'value\\'].plot(legend=True, color=\\'red\\')\\nax2.set(\\n    ylabel = \"VALUE AGG [M]\",\\n    ylim   = [0,lim2],\\n    yticks = [0, (lim2/6)*1, (lim2/6)*2, (lim2/6)*3, (lim2/6)*4, (lim2/6)*5, lim2]\\n)\\nax2.yaxis.label.set_color(\\'red\\')\\n\\nplt.legend(bbox_to_anchor=(1, 1))\\nax2.legend(loc=5)\\nplt.show()\\n'"
      ]
     },
     "execution_count": 14,
     "metadata": {},
     "output_type": "execute_result"
    }
   ],
   "source": [
    "#Series for top 10 customer\n",
    "\n",
    "seriesCustomer = data[data['customerID'].isin(topCustomerList)]\n",
    "seriesCustomer = seriesCustomer.groupby(['customerID', 'yearMonth'], as_index=True).agg({'value':sum})\n",
    "seriesCustomer.reset_index(inplace=True)\n",
    "seriesCustomer['value'] = seriesCustomer['value']/1e6\n",
    "\n",
    "pdvSeries = seriesCustomer[seriesCustomer['customerID'] == 'PDV']\n",
    "seriesCustomer = seriesCustomer[seriesCustomer['customerID'] != 'PDV']\n",
    "\n",
    "seriesCustomer.set_index('yearMonth', inplace=True)\n",
    "\n",
    "pdvSeries.reset_index(inplace=True)\n",
    "pdvSeries.set_index('yearMonth', inplace=True)\n",
    "\"\"\"\n",
    "fig, ax1 = plt.subplots(figsize=(20,7))\n",
    "seriesCustomer.groupby('customerID')['value'].plot(legend=True)\n",
    "\n",
    "lim = seriesCustomer['value'].max()\n",
    "\n",
    "ax1.set(\n",
    "    title  = \"Top 10 cutomers series - evaluate behavior over time\\nJan 2020 - Oct 2021\",\n",
    "    xlabel = \"DATE\",\n",
    "    ylabel = \"VALUE AGG [M]\",\n",
    "    ylim   = [0,lim],\n",
    "    yticks = [0, (lim/6)*1, (lim/6)*2, (lim/6)*3, (lim/6)*4, (lim/6)*5, lim]\n",
    ")\n",
    "\n",
    "ax2 = ax1.twinx()\n",
    "\n",
    "lim2 = pdvSeries['value'].max()\n",
    "\n",
    "pdvSeries.groupby('customerID')['value'].plot(legend=True, color='red')\n",
    "ax2.set(\n",
    "    ylabel = \"VALUE AGG [M]\",\n",
    "    ylim   = [0,lim2],\n",
    "    yticks = [0, (lim2/6)*1, (lim2/6)*2, (lim2/6)*3, (lim2/6)*4, (lim2/6)*5, lim2]\n",
    ")\n",
    "ax2.yaxis.label.set_color('red')\n",
    "\n",
    "plt.legend(bbox_to_anchor=(1, 1))\n",
    "ax2.legend(loc=5)\n",
    "plt.show()\n",
    "\"\"\""
   ]
  },
  {
   "cell_type": "code",
   "execution_count": 15,
   "id": "aa1d1dd9",
   "metadata": {},
   "outputs": [
    {
     "data": {
      "text/plain": [
       "'\\nfig, ax = plt.subplots(figsize=(10,7))\\nax.bar(topGroupBrand[\\'brand\\'], topGroupBrand[\\'value\\'], color=[\\'darkolivegreen\\'], width=0.25)\\n\\nax.set(\\n    title  = \"Top brand contributions to value\\nJan 2020 - Oct 2021\",\\n    xlabel = \"brand\",\\n    ylabel = \"VALUE AGG [M]\", \\n)\\nax.yaxis.label.set_color(\\'darkolivegreen\\')\\n\\nplt.xticks(rotation = 90)\\nplt.show()\\n'"
      ]
     },
     "execution_count": 15,
     "metadata": {},
     "output_type": "execute_result"
    }
   ],
   "source": [
    "#Top contribution in value by brand\n",
    "\n",
    "topGroupBrand = data[data['itemName'].isin(countTopList)]\n",
    "topGroupBrand = topGroupBrand.groupby(['brand'], as_index=False).agg({'value':sum})\n",
    "\n",
    "topGroupBrand.sort_values('value', inplace=True, ascending=False)\n",
    "topGroupBrand.columns.values[1] = 'value'\n",
    "topGroupBrand['value'] = topGroupBrand['value']/1e6\n",
    "topGroupBrand.reset_index(inplace=True)\n",
    "\"\"\"\n",
    "fig, ax = plt.subplots(figsize=(10,7))\n",
    "ax.bar(topGroupBrand['brand'], topGroupBrand['value'], color=['darkolivegreen'], width=0.25)\n",
    "\n",
    "ax.set(\n",
    "    title  = \"Top brand contributions to value\\nJan 2020 - Oct 2021\",\n",
    "    xlabel = \"brand\",\n",
    "    ylabel = \"VALUE AGG [M]\", \n",
    ")\n",
    "ax.yaxis.label.set_color('darkolivegreen')\n",
    "\n",
    "plt.xticks(rotation = 90)\n",
    "plt.show()\n",
    "\"\"\""
   ]
  },
  {
   "cell_type": "code",
   "execution_count": 16,
   "id": "3434602c",
   "metadata": {},
   "outputs": [
    {
     "data": {
      "text/plain": [
       "'\\nfig, ax = plt.subplots(figsize=(10,7))\\nax.bar(topVendor[\\'createdBy\\'], topVendor[\\'value\\'], color=[\\'cyan\\'], width=0.75)\\n\\nax.set(\\n    title  = \"Top contributions to value by sales representatives\\nJan 2020 - Oct 2021\",\\n    xlabel = \"NAME\",\\n    ylabel = \"VALUE AGG [M]\", \\n)\\n\\nplt.xticks(rotation = 90)\\n\\ndef addlabels(x,y):\\n    for i in range(len(x)):\\n        plt.text(i, y[i]+1, y[i]+1, ha = \\'center\\', color=\\'red\\')\\n        \\naddlabels(topVendor[\\'createdBy\\'], round(topVendor[\\'value\\'], 2))\\nax.yaxis.label.set_color(\\'red\\')\\n\\nplt.show()\\n'"
      ]
     },
     "execution_count": 16,
     "metadata": {},
     "output_type": "execute_result"
    }
   ],
   "source": [
    "#Top value by createdBy\n",
    "\n",
    "topVendor = data.groupby('createdBy', as_index=False).apply(lambda x: x[x['itemID'] != 7530 ]['value'].sum())\n",
    "topVendor.columns.values[1] = 'value'\n",
    "topVendor['value'] = topVendor['value']/1e6\n",
    "topVendor.sort_values('value', inplace=True, ascending=False)\n",
    "topVendor.reset_index(inplace=True)\n",
    "\n",
    "topVendor = topVendor.head(10)\n",
    "\n",
    "topVendorList = topVendor['createdBy'].tolist()\n",
    "\"\"\"\n",
    "fig, ax = plt.subplots(figsize=(10,7))\n",
    "ax.bar(topVendor['createdBy'], topVendor['value'], color=['cyan'], width=0.75)\n",
    "\n",
    "ax.set(\n",
    "    title  = \"Top contributions to value by sales representatives\\nJan 2020 - Oct 2021\",\n",
    "    xlabel = \"NAME\",\n",
    "    ylabel = \"VALUE AGG [M]\", \n",
    ")\n",
    "\n",
    "plt.xticks(rotation = 90)\n",
    "\n",
    "def addlabels(x,y):\n",
    "    for i in range(len(x)):\n",
    "        plt.text(i, y[i]+1, y[i]+1, ha = 'center', color='red')\n",
    "        \n",
    "addlabels(topVendor['createdBy'], round(topVendor['value'], 2))\n",
    "ax.yaxis.label.set_color('red')\n",
    "\n",
    "plt.show()\n",
    "\"\"\"\n",
    "#Registered value by sales representative"
   ]
  },
  {
   "cell_type": "code",
   "execution_count": 17,
   "id": "68ed868d",
   "metadata": {},
   "outputs": [
    {
     "data": {
      "text/plain": [
       "'\\nfig, ax = plt.subplots(figsize=(20,7))\\nseriesVendor.groupby(\\'createdBy\\')[\\'value\\'].plot(legend=True)\\n\\nlim = seriesVendor[\\'value\\'].max()\\n\\nax.set(\\n    title  = \"Top 10 sales representative series\\nJan 2020 - Oct 2021\",\\n    xlabel = \"DATE\",\\n    ylabel = \"VALUE AGG [M]\",\\n    ylim   = [0,lim],\\n    yticks = [0, (lim/6)*1, (lim/6)*2, (lim/6)*3, (lim/6)*4, (lim/6)*5, lim]\\n)\\n\\nplt.legend(bbox_to_anchor=(1, 1))\\nplt.show()\\n'"
      ]
     },
     "execution_count": 17,
     "metadata": {},
     "output_type": "execute_result"
    }
   ],
   "source": [
    "#Series for top 10 sales representatives\n",
    "\n",
    "seriesVendor = data[data['createdBy'].isin(topVendorList)]\n",
    "seriesVendor = seriesVendor.groupby(['createdBy', 'yearMonth'], as_index=True).agg({'value':sum})\n",
    "seriesVendor.reset_index(inplace=True)\n",
    "seriesVendor['value'] = seriesVendor['value']/1e6\n",
    "\n",
    "seriesVendor.set_index('yearMonth', inplace=True)\n",
    "\"\"\"\n",
    "fig, ax = plt.subplots(figsize=(20,7))\n",
    "seriesVendor.groupby('createdBy')['value'].plot(legend=True)\n",
    "\n",
    "lim = seriesVendor['value'].max()\n",
    "\n",
    "ax.set(\n",
    "    title  = \"Top 10 sales representative series\\nJan 2020 - Oct 2021\",\n",
    "    xlabel = \"DATE\",\n",
    "    ylabel = \"VALUE AGG [M]\",\n",
    "    ylim   = [0,lim],\n",
    "    yticks = [0, (lim/6)*1, (lim/6)*2, (lim/6)*3, (lim/6)*4, (lim/6)*5, lim]\n",
    ")\n",
    "\n",
    "plt.legend(bbox_to_anchor=(1, 1))\n",
    "plt.show()\n",
    "\"\"\""
   ]
  },
  {
   "cell_type": "code",
   "execution_count": null,
   "id": "efaeb959",
   "metadata": {},
   "outputs": [],
   "source": []
  }
 ],
 "metadata": {
  "kernelspec": {
   "display_name": "Python 3 (ipykernel)",
   "language": "python",
   "name": "python3"
  },
  "language_info": {
   "codemirror_mode": {
    "name": "ipython",
    "version": 3
   },
   "file_extension": ".py",
   "mimetype": "text/x-python",
   "name": "python",
   "nbconvert_exporter": "python",
   "pygments_lexer": "ipython3",
   "version": "3.10.2"
  }
 },
 "nbformat": 4,
 "nbformat_minor": 5
}
